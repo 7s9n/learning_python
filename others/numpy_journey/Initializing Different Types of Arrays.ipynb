{
 "cells": [
  {
   "cell_type": "code",
   "execution_count": 1,
   "id": "855c276b",
   "metadata": {},
   "outputs": [],
   "source": [
    "import numpy as np"
   ]
  },
  {
   "cell_type": "code",
   "execution_count": 2,
   "id": "10f7ff65",
   "metadata": {},
   "outputs": [
    {
     "data": {
      "text/plain": [
       "array([0., 0., 0., 0., 0.])"
      ]
     },
     "execution_count": 2,
     "metadata": {},
     "output_type": "execute_result"
    }
   ],
   "source": [
    "# All 0s matrix\n",
    "np.zeros(5)"
   ]
  },
  {
   "cell_type": "code",
   "execution_count": 3,
   "id": "7743a48f",
   "metadata": {},
   "outputs": [
    {
     "data": {
      "text/plain": [
       "array([[0., 0., 0.],\n",
       "       [0., 0., 0.],\n",
       "       [0., 0., 0.]])"
      ]
     },
     "execution_count": 3,
     "metadata": {},
     "output_type": "execute_result"
    }
   ],
   "source": [
    "np.zeros((3 , 3))\n"
   ]
  },
  {
   "cell_type": "code",
   "execution_count": 4,
   "id": "fb90f21a",
   "metadata": {},
   "outputs": [
    {
     "data": {
      "text/plain": [
       "array([[0., 0., 0.],\n",
       "       [0., 0., 0.]])"
      ]
     },
     "execution_count": 4,
     "metadata": {},
     "output_type": "execute_result"
    }
   ],
   "source": [
    "np.zeros((2 , 3))"
   ]
  },
  {
   "cell_type": "code",
   "execution_count": 5,
   "id": "96eb5eef",
   "metadata": {},
   "outputs": [
    {
     "data": {
      "text/plain": [
       "array([[[0., 0., 0., 0., 0.],\n",
       "        [0., 0., 0., 0., 0.]],\n",
       "\n",
       "       [[0., 0., 0., 0., 0.],\n",
       "        [0., 0., 0., 0., 0.]],\n",
       "\n",
       "       [[0., 0., 0., 0., 0.],\n",
       "        [0., 0., 0., 0., 0.]]])"
      ]
     },
     "execution_count": 5,
     "metadata": {},
     "output_type": "execute_result"
    }
   ],
   "source": [
    "np.zeros( (3 , 2 , 5) )"
   ]
  },
  {
   "cell_type": "code",
   "execution_count": 6,
   "id": "509cacf2",
   "metadata": {},
   "outputs": [
    {
     "data": {
      "text/plain": [
       "array([1., 1., 1., 1., 1.])"
      ]
     },
     "execution_count": 6,
     "metadata": {},
     "output_type": "execute_result"
    }
   ],
   "source": [
    "#All ones\n",
    "np.ones( 5 )"
   ]
  },
  {
   "cell_type": "code",
   "execution_count": 7,
   "id": "b935b99e",
   "metadata": {},
   "outputs": [
    {
     "data": {
      "text/plain": [
       "array([[1., 1., 1.],\n",
       "       [1., 1., 1.]])"
      ]
     },
     "execution_count": 7,
     "metadata": {},
     "output_type": "execute_result"
    }
   ],
   "source": [
    "np.ones( (2 , 3) )"
   ]
  },
  {
   "cell_type": "code",
   "execution_count": 11,
   "id": "9d765b51",
   "metadata": {},
   "outputs": [
    {
     "data": {
      "text/plain": [
       "array([[[1, 1, 1, 1, 1, 1],\n",
       "        [1, 1, 1, 1, 1, 1],\n",
       "        [1, 1, 1, 1, 1, 1],\n",
       "        [1, 1, 1, 1, 1, 1],\n",
       "        [1, 1, 1, 1, 1, 1]],\n",
       "\n",
       "       [[1, 1, 1, 1, 1, 1],\n",
       "        [1, 1, 1, 1, 1, 1],\n",
       "        [1, 1, 1, 1, 1, 1],\n",
       "        [1, 1, 1, 1, 1, 1],\n",
       "        [1, 1, 1, 1, 1, 1]],\n",
       "\n",
       "       [[1, 1, 1, 1, 1, 1],\n",
       "        [1, 1, 1, 1, 1, 1],\n",
       "        [1, 1, 1, 1, 1, 1],\n",
       "        [1, 1, 1, 1, 1, 1],\n",
       "        [1, 1, 1, 1, 1, 1]]], dtype=uint8)"
      ]
     },
     "execution_count": 11,
     "metadata": {},
     "output_type": "execute_result"
    }
   ],
   "source": [
    "np.ones( (3 , 5  , 6) , dtype='uint8')"
   ]
  },
  {
   "cell_type": "code",
   "execution_count": 12,
   "id": "bb98effb",
   "metadata": {},
   "outputs": [
    {
     "data": {
      "text/plain": [
       "array([[5, 5, 5],\n",
       "       [5, 5, 5],\n",
       "       [5, 5, 5]])"
      ]
     },
     "execution_count": 12,
     "metadata": {},
     "output_type": "execute_result"
    }
   ],
   "source": [
    "#Any other number np.full( (shape) , value )\n",
    "np.full( (3 , 3) , 5 )"
   ]
  },
  {
   "cell_type": "code",
   "execution_count": 31,
   "id": "40ddd26c",
   "metadata": {},
   "outputs": [
    {
     "data": {
      "text/plain": [
       "array([[[5, 5, 5, 5, 5, 5, 5, 5, 5],\n",
       "        [5, 5, 5, 5, 5, 5, 5, 5, 5],\n",
       "        [5, 5, 5, 5, 5, 5, 5, 5, 5],\n",
       "        [5, 5, 5, 5, 5, 5, 5, 5, 5],\n",
       "        [5, 5, 5, 5, 5, 5, 5, 5, 5]],\n",
       "\n",
       "       [[5, 5, 5, 5, 5, 5, 5, 5, 5],\n",
       "        [5, 5, 5, 5, 5, 5, 5, 5, 5],\n",
       "        [5, 5, 5, 5, 5, 5, 5, 5, 5],\n",
       "        [5, 5, 5, 5, 5, 5, 5, 5, 5],\n",
       "        [5, 5, 5, 5, 5, 5, 5, 5, 5]],\n",
       "\n",
       "       [[5, 5, 5, 5, 5, 5, 5, 5, 5],\n",
       "        [5, 5, 5, 5, 5, 5, 5, 5, 5],\n",
       "        [5, 5, 5, 5, 5, 5, 5, 5, 5],\n",
       "        [5, 5, 5, 5, 5, 5, 5, 5, 5],\n",
       "        [5, 5, 5, 5, 5, 5, 5, 5, 5]]], dtype=uint8)"
      ]
     },
     "execution_count": 31,
     "metadata": {},
     "output_type": "execute_result"
    }
   ],
   "source": [
    "np.full( (3 , 5 , 9) , 5  , dtype='uint8')"
   ]
  },
  {
   "cell_type": "code",
   "execution_count": 32,
   "id": "78f0a48b",
   "metadata": {},
   "outputs": [],
   "source": [
    "nums = np.array( [1 , 2 , 3] )"
   ]
  },
  {
   "cell_type": "code",
   "execution_count": 35,
   "id": "8388fe92",
   "metadata": {},
   "outputs": [
    {
     "data": {
      "text/plain": [
       "array([5, 5, 5])"
      ]
     },
     "execution_count": 35,
     "metadata": {},
     "output_type": "execute_result"
    }
   ],
   "source": [
    "#Any other number (full_like)\n",
    "np.full_like(nums , 5)\n",
    "# np.full(nums.shape , 5)"
   ]
  },
  {
   "cell_type": "code",
   "execution_count": 45,
   "id": "4438eaad",
   "metadata": {},
   "outputs": [
    {
     "data": {
      "text/plain": [
       "array([[0.42860793, 0.44634623],\n",
       "       [0.52095219, 0.92786768],\n",
       "       [0.92604495, 0.78691337],\n",
       "       [0.03644388, 0.3835993 ]])"
      ]
     },
     "execution_count": 45,
     "metadata": {},
     "output_type": "execute_result"
    }
   ],
   "source": [
    "#Random Decimal Number\n",
    "np.random.rand(4 , 2)"
   ]
  },
  {
   "cell_type": "code",
   "execution_count": 52,
   "id": "a8d1a3a2",
   "metadata": {},
   "outputs": [
    {
     "data": {
      "text/plain": [
       "array([[[[0.13203056, 0.26116075, 0.62324559, 0.001526  ],\n",
       "         [0.65402256, 0.97534666, 0.55056975, 0.87876038],\n",
       "         [0.34227051, 0.59962603, 0.97875426, 0.36682334]],\n",
       "\n",
       "        [[0.44644365, 0.88380886, 0.29035837, 0.49235636],\n",
       "         [0.20547309, 0.99134371, 0.77451863, 0.75224745],\n",
       "         [0.63201738, 0.62734792, 0.53921327, 0.02749731]]],\n",
       "\n",
       "\n",
       "       [[[0.98358523, 0.01914622, 0.12787037, 0.00201468],\n",
       "         [0.58447979, 0.05896992, 0.18389957, 0.56552107],\n",
       "         [0.4567818 , 0.71400353, 0.4456889 , 0.02103513]],\n",
       "\n",
       "        [[0.3919955 , 0.40605305, 0.87559268, 0.91526398],\n",
       "         [0.49412651, 0.74589273, 0.47463789, 0.10071967],\n",
       "         [0.65760418, 0.13718167, 0.67265148, 0.01217396]]]])"
      ]
     },
     "execution_count": 52,
     "metadata": {},
     "output_type": "execute_result"
    }
   ],
   "source": [
    "np.random.rand(2 , 2 , 3 , 4)"
   ]
  },
  {
   "cell_type": "code",
   "execution_count": 56,
   "id": "1734539f",
   "metadata": {},
   "outputs": [
    {
     "data": {
      "text/plain": [
       "array([[0.03970173, 0.63239993, 0.35524724],\n",
       "       [0.12374067, 0.71219485, 0.42883491],\n",
       "       [0.15223254, 0.05091734, 0.12841961],\n",
       "       [0.19438686, 0.31208178, 0.6566211 ]])"
      ]
     },
     "execution_count": 56,
     "metadata": {},
     "output_type": "execute_result"
    }
   ],
   "source": [
    "np.random.random_sample((4 , 3))"
   ]
  },
  {
   "cell_type": "code",
   "execution_count": 118,
   "id": "39693ed0",
   "metadata": {},
   "outputs": [
    {
     "data": {
      "text/plain": [
       "array([[2, 2, 5],\n",
       "       [4, 2, 5],\n",
       "       [4, 0, 4]])"
      ]
     },
     "execution_count": 118,
     "metadata": {},
     "output_type": "execute_result"
    }
   ],
   "source": [
    "#Random integer\n",
    "np.random.randint(6 , size=(3 , 3))"
   ]
  },
  {
   "cell_type": "code",
   "execution_count": 138,
   "id": "51954316",
   "metadata": {},
   "outputs": [
    {
     "data": {
      "text/plain": [
       "array([[6, 7, 7],\n",
       "       [7, 8, 8],\n",
       "       [7, 8, 5]])"
      ]
     },
     "execution_count": 138,
     "metadata": {},
     "output_type": "execute_result"
    }
   ],
   "source": [
    "np.random.randint( 5 , 9 , size=(3 , 3))"
   ]
  },
  {
   "cell_type": "code",
   "execution_count": 143,
   "id": "daf8cf7d",
   "metadata": {},
   "outputs": [
    {
     "data": {
      "text/plain": [
       "array([[1, 0, 0],\n",
       "       [0, 1, 0],\n",
       "       [0, 0, 1]], dtype=uint8)"
      ]
     },
     "execution_count": 143,
     "metadata": {},
     "output_type": "execute_result"
    }
   ],
   "source": [
    "#The identity matrix\n",
    "np.identity(3 , dtype='uint8')"
   ]
  },
  {
   "cell_type": "code",
   "execution_count": 149,
   "id": "33acc862",
   "metadata": {},
   "outputs": [
    {
     "name": "stdout",
     "output_type": "stream",
     "text": [
      "[1 1 1 2 2 2 3 3 3]\n"
     ]
    }
   ],
   "source": [
    "#Repeat an array\n",
    "a = np.array( [1 , 2, 3] ,  dtype='uint8')\n",
    "b = np.repeat(a , 3 , axis=0)\n",
    "print(b) #[1 1 1 2 2 2 3 3 3]"
   ]
  },
  {
   "cell_type": "code",
   "execution_count": 156,
   "id": "f80716b8",
   "metadata": {},
   "outputs": [
    {
     "name": "stdout",
     "output_type": "stream",
     "text": [
      "[[1 2 3]\n",
      " [1 2 3]\n",
      " [1 2 3]]\n"
     ]
    }
   ],
   "source": [
    "a = np.array( [[1 , 2, 3]] ,  dtype='uint8')\n",
    "b = np.repeat(a , 3 , axis=0)\n",
    "print(b)"
   ]
  },
  {
   "cell_type": "code",
   "execution_count": 176,
   "id": "0048208e",
   "metadata": {},
   "outputs": [
    {
     "name": "stdout",
     "output_type": "stream",
     "text": [
      "[[1 1 1 1 1]\n",
      " [1 0 0 0 1]\n",
      " [1 0 9 0 1]\n",
      " [1 0 0 0 1]\n",
      " [1 1 1 1 1]]\n"
     ]
    }
   ],
   "source": [
    "ones = np.ones((5 , 5) , dtype='uint8')\n",
    "zeros = np.zeros((3 , 3) , dtype='uint8')\n",
    "zeros[1 , 1] = 9\n",
    "ones[1:4 , 1:4] = zeros\n",
    "print(ones)"
   ]
  },
  {
   "cell_type": "markdown",
   "id": "edbe8bab",
   "metadata": {},
   "source": [
    "#### Be careful when copying arrays !!!"
   ]
  },
  {
   "cell_type": "code",
   "execution_count": 180,
   "id": "ba9820ea",
   "metadata": {},
   "outputs": [
    {
     "name": "stdout",
     "output_type": "stream",
     "text": [
      "[600   2   3]\n",
      "[600   2   3]\n"
     ]
    }
   ],
   "source": [
    "a = np.array( [1 , 2 , 3] )\n",
    "b = a\n",
    "b[0] = 600\n",
    "print(b) #[600   2   3]\n",
    "print(a) #[600   2   3]\n"
   ]
  },
  {
   "cell_type": "code",
   "execution_count": 183,
   "id": "68c9648e",
   "metadata": {},
   "outputs": [
    {
     "name": "stdout",
     "output_type": "stream",
     "text": [
      "[600   2   3]\n",
      "[1 2 3]\n"
     ]
    }
   ],
   "source": [
    "a = np.array( [1 , 2 , 3] )\n",
    "b = a.copy()\n",
    "b[0] = 600\n",
    "print(b) #[600   2   3]\n",
    "print(a) #[1   2   3]"
   ]
  }
 ],
 "metadata": {
  "kernelspec": {
   "display_name": "Python 3",
   "language": "python",
   "name": "python3"
  },
  "language_info": {
   "codemirror_mode": {
    "name": "ipython",
    "version": 3
   },
   "file_extension": ".py",
   "mimetype": "text/x-python",
   "name": "python",
   "nbconvert_exporter": "python",
   "pygments_lexer": "ipython3",
   "version": "3.9.5"
  }
 },
 "nbformat": 4,
 "nbformat_minor": 5
}
