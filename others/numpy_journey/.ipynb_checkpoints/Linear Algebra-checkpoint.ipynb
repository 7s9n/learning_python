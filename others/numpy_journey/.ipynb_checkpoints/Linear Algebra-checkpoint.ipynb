{
 "cells": [
  {
   "cell_type": "code",
   "execution_count": 1,
   "id": "2b2f8475",
   "metadata": {},
   "outputs": [],
   "source": [
    "import numpy as np"
   ]
  },
  {
   "cell_type": "code",
   "execution_count": null,
   "id": "8da3fae8",
   "metadata": {},
   "outputs": [],
   "source": []
  },
  {
   "cell_type": "code",
   "execution_count": 10,
   "id": "aa90e3c4",
   "metadata": {},
   "outputs": [
    {
     "name": "stdout",
     "output_type": "stream",
     "text": [
      "[[1 2 3]\n",
      " [2 4 6]\n",
      " [3 6 9]]\n"
     ]
    },
    {
     "data": {
      "text/plain": [
       "array([[1, 2, 3],\n",
       "       [2, 4, 6],\n",
       "       [3, 6, 9]])"
      ]
     },
     "execution_count": 10,
     "metadata": {},
     "output_type": "execute_result"
    }
   ],
   "source": [
    "a = np.array([ [1] , [2] , [3] ])\n",
    "b = np.array([[1 , 2 , 3]])\n",
    "print(a * b)\n",
    "np.matmul(a , b)"
   ]
  },
  {
   "cell_type": "code",
   "execution_count": 24,
   "id": "6cf4176f",
   "metadata": {},
   "outputs": [
    {
     "data": {
      "text/plain": [
       "1.0"
      ]
     },
     "execution_count": 24,
     "metadata": {},
     "output_type": "execute_result"
    }
   ],
   "source": [
    "#Find the determinant\n",
    "a = np.identity(3)\n",
    "np.linalg.det(a)"
   ]
  },
  {
   "cell_type": "code",
   "execution_count": 13,
   "id": "11abd625",
   "metadata": {},
   "outputs": [
    {
     "data": {
      "text/plain": [
       "17265529.999999944"
      ]
     },
     "execution_count": 13,
     "metadata": {},
     "output_type": "execute_result"
    }
   ],
   "source": [
    "a = [[1 , 2 , 4 , 8 , 6 , 3 , 4 , 8 , 0 , 2],\n",
    "                [2 , 2 , 3 , 4 , 5 , 6 , 7 , 8 , 9 , 1],\n",
    "                [5 , 2 , 3 , 4 , 8 , 9 , 1 , 9 , 8 , 3],\n",
    "                [1 , 1 , 1 , 6 , 4 , 2 , 5 , 9 , 8 , 7],\n",
    "                [9 , 5 , 0 , 1 , 2 , 0 , 6 , 0 , 0 , 0],\n",
    "                [8 , 4 , 0 , 1 , 2 , 3 , 4 , 5 , 8 , 4],\n",
    "                [7 , 3 , 3 , 6 , 7 , 8 , 9 , 1 , 7 , 3],\n",
    "                [1 , 2 , 4 , 0 , 0 , 0 , 0 , 3 , 5 , 2],\n",
    "                [1 , 1 , 0 , 4 , 5 , 0 , 0 , 4 , 2 , 1],\n",
    "                [1 , 0 , 0 , 0 , 9 , 0 , 0 , 1 , 1 , 6]]\n",
    "\n",
    "np.linalg.det(a) #17265529.999999944"
   ]
  },
  {
   "cell_type": "code",
   "execution_count": 26,
   "id": "81375f9f",
   "metadata": {},
   "outputs": [
    {
     "data": {
      "text/plain": [
       "4.977443857824083e+114"
      ]
     },
     "execution_count": 26,
     "metadata": {},
     "output_type": "execute_result"
    }
   ],
   "source": [
    "a = np.random.randint(1 , 9 , (100 , 100))\n",
    "np.linalg.det(a)"
   ]
  },
  {
   "cell_type": "code",
   "execution_count": 32,
   "id": "2ae8e99e",
   "metadata": {},
   "outputs": [
    {
     "data": {
      "text/plain": [
       "array([[ 1.00000000e+00, -1.11022302e-15, -2.22044605e-16,\n",
       "         8.88178420e-16, -6.66133815e-16],\n",
       "       [ 1.77635684e-15,  1.00000000e+00, -1.11022302e-15,\n",
       "        -1.33226763e-15,  2.22044605e-16],\n",
       "       [ 0.00000000e+00,  1.66533454e-16,  1.00000000e+00,\n",
       "         7.77156117e-16,  3.88578059e-16],\n",
       "       [-8.88178420e-16, -5.55111512e-16,  5.55111512e-16,\n",
       "         1.00000000e+00, -9.99200722e-16],\n",
       "       [-4.44089210e-16, -4.71844785e-16,  2.77555756e-17,\n",
       "        -1.66533454e-16,  1.00000000e+00]])"
      ]
     },
     "execution_count": 32,
     "metadata": {},
     "output_type": "execute_result"
    }
   ],
   "source": [
    "a = np.array( [\n",
    "                [2 , 5 , 0 , 8 , 9],\n",
    "                [1 , 4 , 2 , 6 , 6],\n",
    "                [7 , 8 , 9 , 3 , 8],\n",
    "                [1 , 5 , 7 , 8 , 1],\n",
    "                [8 , 9 , 7 , 6 , 5]\n",
    "] )\n",
    "a_inverse = np.linalg.inv(a)\n",
    "np.matmul(a_inverse , a)"
   ]
  }
 ],
 "metadata": {
  "kernelspec": {
   "display_name": "Python 3",
   "language": "python",
   "name": "python3"
  },
  "language_info": {
   "codemirror_mode": {
    "name": "ipython",
    "version": 3
   },
   "file_extension": ".py",
   "mimetype": "text/x-python",
   "name": "python",
   "nbconvert_exporter": "python",
   "pygments_lexer": "ipython3",
   "version": "3.9.5"
  }
 },
 "nbformat": 4,
 "nbformat_minor": 5
}
