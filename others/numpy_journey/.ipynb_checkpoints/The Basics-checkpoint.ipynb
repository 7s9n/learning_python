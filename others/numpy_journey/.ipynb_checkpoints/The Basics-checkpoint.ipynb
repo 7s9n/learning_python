{
 "cells": [
  {
   "cell_type": "code",
   "execution_count": 1,
   "id": "63273d45-1e8a-4de0-8f52-1837d20cec08",
   "metadata": {},
   "outputs": [],
   "source": [
    "import numpy as np"
   ]
  },
  {
   "cell_type": "code",
   "execution_count": 2,
   "id": "9a09eb02-b2c9-4290-a69c-50de0b4783f8",
   "metadata": {},
   "outputs": [
    {
     "data": {
      "text/plain": [
       "array([1, 2, 3])"
      ]
     },
     "execution_count": 2,
     "metadata": {},
     "output_type": "execute_result"
    }
   ],
   "source": [
    "a = np.array([1,2,3])\n",
    "a"
   ]
  },
  {
   "cell_type": "code",
   "execution_count": 3,
   "id": "6135257a-ee3b-4884-abad-7bb7d9596fed",
   "metadata": {},
   "outputs": [
    {
     "name": "stdout",
     "output_type": "stream",
     "text": [
      "[1 2 3]\n"
     ]
    }
   ],
   "source": [
    "print(a)"
   ]
  },
  {
   "cell_type": "code",
   "execution_count": 4,
   "id": "9d4b255e-8158-49bd-86d1-8ece20d06048",
   "metadata": {},
   "outputs": [
    {
     "name": "stdout",
     "output_type": "stream",
     "text": [
      "[[1 2 3]\n",
      " [4 5 6]\n",
      " [7 8 9]]\n"
     ]
    }
   ],
   "source": [
    "b = np.array([[1 , 2 , 3] , [4 , 5 , 6] , [7 , 8 , 9]])\n",
    "print(b)"
   ]
  },
  {
   "cell_type": "code",
   "execution_count": 5,
   "id": "376eedcc-75d5-4d1c-b29a-8ab0a27445a4",
   "metadata": {},
   "outputs": [
    {
     "name": "stdout",
     "output_type": "stream",
     "text": [
      "int32\n"
     ]
    }
   ],
   "source": [
    "#return data type by default it's int32 \n",
    "print(b.dtype)"
   ]
  },
  {
   "cell_type": "code",
   "execution_count": 6,
   "id": "db5875e2-7070-4aa8-84f5-290c8e474256",
   "metadata": {},
   "outputs": [
    {
     "data": {
      "text/plain": [
       "1"
      ]
     },
     "execution_count": 6,
     "metadata": {},
     "output_type": "execute_result"
    }
   ],
   "source": [
    "#Get dimention\n",
    "a.ndim"
   ]
  },
  {
   "cell_type": "code",
   "execution_count": 7,
   "id": "76800362-e401-4ae5-a95c-3962432812c2",
   "metadata": {},
   "outputs": [
    {
     "data": {
      "text/plain": [
       "2"
      ]
     },
     "execution_count": 7,
     "metadata": {},
     "output_type": "execute_result"
    }
   ],
   "source": [
    "b.ndim"
   ]
  },
  {
   "cell_type": "code",
   "execution_count": 8,
   "id": "fd411e67-fcd0-48b9-bd0e-c033c601a187",
   "metadata": {},
   "outputs": [
    {
     "data": {
      "text/plain": [
       "(3,)"
      ]
     },
     "execution_count": 8,
     "metadata": {},
     "output_type": "execute_result"
    }
   ],
   "source": [
    "#Get Shape\n",
    "a.shape"
   ]
  },
  {
   "cell_type": "code",
   "execution_count": 9,
   "id": "e404cf7f-4214-467e-92a6-934ba8708db8",
   "metadata": {},
   "outputs": [
    {
     "data": {
      "text/plain": [
       "(3, 3)"
      ]
     },
     "execution_count": 9,
     "metadata": {},
     "output_type": "execute_result"
    }
   ],
   "source": [
    "b.shape # 3 * 3 (row , column)"
   ]
  },
  {
   "cell_type": "code",
   "execution_count": 10,
   "id": "e2ed1b03-139f-4e07-a836-be8e094b0673",
   "metadata": {},
   "outputs": [
    {
     "data": {
      "text/plain": [
       "dtype('int16')"
      ]
     },
     "execution_count": 10,
     "metadata": {},
     "output_type": "execute_result"
    }
   ],
   "source": [
    "c = np.array([1 , 2 , 3] , dtype='int16')\n",
    "c.dtype"
   ]
  },
  {
   "cell_type": "code",
   "execution_count": 11,
   "id": "87344388-01d9-40cc-a2e2-b826f09c97af",
   "metadata": {},
   "outputs": [
    {
     "data": {
      "text/plain": [
       "2"
      ]
     },
     "execution_count": 11,
     "metadata": {},
     "output_type": "execute_result"
    }
   ],
   "source": [
    "#Get Size\n",
    "c.itemsize"
   ]
  },
  {
   "cell_type": "code",
   "execution_count": 12,
   "id": "31c7f196-0d79-4ab0-992e-d5dd94ecd364",
   "metadata": {},
   "outputs": [
    {
     "data": {
      "text/plain": [
       "3"
      ]
     },
     "execution_count": 12,
     "metadata": {},
     "output_type": "execute_result"
    }
   ],
   "source": [
    "#Get number of element in the array\n",
    "c.size"
   ]
  },
  {
   "cell_type": "code",
   "execution_count": 13,
   "id": "22cb7ef9-ba08-4f24-b4ac-45c1ddd07478",
   "metadata": {},
   "outputs": [
    {
     "data": {
      "text/plain": [
       "6"
      ]
     },
     "execution_count": 13,
     "metadata": {},
     "output_type": "execute_result"
    }
   ],
   "source": [
    "#Get total size\n",
    "# c.size * c.itemsize\n",
    "c.nbytes"
   ]
  },
  {
   "cell_type": "code",
   "execution_count": 14,
   "id": "948562c8",
   "metadata": {},
   "outputs": [
    {
     "name": "stdout",
     "output_type": "stream",
     "text": [
      "1 2 3 \n",
      "4 5 6 \n"
     ]
    }
   ],
   "source": [
    "nums = np.array([[1 , 2 , 3] , [4 , 5 , 6]])\n",
    "for row in nums:\n",
    "    for n in row:\n",
    "        print(n , end = ' ')\n",
    "    print()"
   ]
  }
 ],
 "metadata": {
  "kernelspec": {
   "display_name": "Python 3",
   "language": "python",
   "name": "python3"
  },
  "language_info": {
   "codemirror_mode": {
    "name": "ipython",
    "version": 3
   },
   "file_extension": ".py",
   "mimetype": "text/x-python",
   "name": "python",
   "nbconvert_exporter": "python",
   "pygments_lexer": "ipython3",
   "version": "3.9.5"
  }
 },
 "nbformat": 4,
 "nbformat_minor": 5
}
