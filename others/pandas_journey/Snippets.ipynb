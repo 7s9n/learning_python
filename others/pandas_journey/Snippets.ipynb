{
 "cells": [
  {
   "cell_type": "code",
   "execution_count": 1,
   "id": "4620edbd",
   "metadata": {},
   "outputs": [],
   "source": [
    "person = {\n",
    "    'first':'Hussein' , \n",
    "    'last':'Sarea',\n",
    "    'email':'zzzsdsd@dskd.com',\n",
    "}"
   ]
  },
  {
   "cell_type": "code",
   "execution_count": 2,
   "id": "3fabf744",
   "metadata": {},
   "outputs": [],
   "source": [
    "people = {\n",
    "    'first':['Hussein'],\n",
    "    'last':['Sarea'],\n",
    "    'email':['zzzsdsd@dskd.com']\n",
    "}"
   ]
  },
  {
   "cell_type": "code",
   "execution_count": 3,
   "id": "d9ee0661",
   "metadata": {},
   "outputs": [],
   "source": [
    "people = {\n",
    "    'first':['Hussein' , 'Moataz' , 'Ekram'],\n",
    "    'last':['Sarea' , 'Ahmed' , 'Sarea'],\n",
    "    'email':['zzzsdsd@dskd.com' , 'dsd@dsx.com' , 'zzz@dskd.com']\n",
    "}"
   ]
  },
  {
   "cell_type": "code",
   "execution_count": 4,
   "id": "45f25cf8",
   "metadata": {},
   "outputs": [
    {
     "data": {
      "text/plain": [
       "['zzzsdsd@dskd.com', 'dsd@dsx.com', 'zzz@dskd.com']"
      ]
     },
     "execution_count": 4,
     "metadata": {},
     "output_type": "execute_result"
    }
   ],
   "source": [
    "people['email']"
   ]
  },
  {
   "cell_type": "code",
   "execution_count": 5,
   "id": "1eff3ca4",
   "metadata": {},
   "outputs": [],
   "source": [
    "import pandas as pd"
   ]
  },
  {
   "cell_type": "code",
   "execution_count": 6,
   "id": "5eb8718a",
   "metadata": {},
   "outputs": [],
   "source": [
    "df = pd.DataFrame(people)"
   ]
  },
  {
   "cell_type": "code",
   "execution_count": 7,
   "id": "8f99b0f6",
   "metadata": {},
   "outputs": [
    {
     "data": {
      "text/html": [
       "<div>\n",
       "<style scoped>\n",
       "    .dataframe tbody tr th:only-of-type {\n",
       "        vertical-align: middle;\n",
       "    }\n",
       "\n",
       "    .dataframe tbody tr th {\n",
       "        vertical-align: top;\n",
       "    }\n",
       "\n",
       "    .dataframe thead th {\n",
       "        text-align: right;\n",
       "    }\n",
       "</style>\n",
       "<table border=\"1\" class=\"dataframe\">\n",
       "  <thead>\n",
       "    <tr style=\"text-align: right;\">\n",
       "      <th></th>\n",
       "      <th>first</th>\n",
       "      <th>last</th>\n",
       "      <th>email</th>\n",
       "    </tr>\n",
       "  </thead>\n",
       "  <tbody>\n",
       "    <tr>\n",
       "      <th>0</th>\n",
       "      <td>Hussein</td>\n",
       "      <td>Sarea</td>\n",
       "      <td>zzzsdsd@dskd.com</td>\n",
       "    </tr>\n",
       "    <tr>\n",
       "      <th>1</th>\n",
       "      <td>Moataz</td>\n",
       "      <td>Ahmed</td>\n",
       "      <td>dsd@dsx.com</td>\n",
       "    </tr>\n",
       "    <tr>\n",
       "      <th>2</th>\n",
       "      <td>Ekram</td>\n",
       "      <td>Sarea</td>\n",
       "      <td>zzz@dskd.com</td>\n",
       "    </tr>\n",
       "  </tbody>\n",
       "</table>\n",
       "</div>"
      ],
      "text/plain": [
       "     first   last             email\n",
       "0  Hussein  Sarea  zzzsdsd@dskd.com\n",
       "1   Moataz  Ahmed       dsd@dsx.com\n",
       "2    Ekram  Sarea      zzz@dskd.com"
      ]
     },
     "execution_count": 7,
     "metadata": {},
     "output_type": "execute_result"
    }
   ],
   "source": [
    "df"
   ]
  },
  {
   "cell_type": "code",
   "execution_count": 8,
   "id": "f7ce720e",
   "metadata": {},
   "outputs": [
    {
     "data": {
      "text/plain": [
       "pandas.core.series.Series"
      ]
     },
     "execution_count": 8,
     "metadata": {},
     "output_type": "execute_result"
    }
   ],
   "source": [
    "df['last']\n",
    "type(df['last']) #Series"
   ]
  },
  {
   "cell_type": "code",
   "execution_count": 9,
   "id": "70030f36",
   "metadata": {},
   "outputs": [
    {
     "data": {
      "text/plain": [
       "pandas.core.frame.DataFrame"
      ]
     },
     "execution_count": 9,
     "metadata": {},
     "output_type": "execute_result"
    }
   ],
   "source": [
    "df[ ['first' , 'last'] ] #Accessing multiple column , \n",
    "type(df[ ['first' , 'last'] ]) #DataFrame"
   ]
  },
  {
   "cell_type": "code",
   "execution_count": 10,
   "id": "af777c24",
   "metadata": {},
   "outputs": [
    {
     "data": {
      "text/plain": [
       "Index(['first', 'last', 'email'], dtype='object')"
      ]
     },
     "execution_count": 10,
     "metadata": {},
     "output_type": "execute_result"
    }
   ],
   "source": [
    "df.columns"
   ]
  },
  {
   "cell_type": "code",
   "execution_count": 11,
   "id": "1e547053",
   "metadata": {},
   "outputs": [
    {
     "data": {
      "text/plain": [
       "0    zzzsdsd@dskd.com\n",
       "1         dsd@dsx.com\n",
       "Name: email, dtype: object"
      ]
     },
     "execution_count": 11,
     "metadata": {},
     "output_type": "execute_result"
    }
   ],
   "source": [
    "df.iloc[0:2 , 2]"
   ]
  },
  {
   "cell_type": "code",
   "execution_count": 12,
   "id": "10ff4cf7",
   "metadata": {},
   "outputs": [
    {
     "data": {
      "text/html": [
       "<div>\n",
       "<style scoped>\n",
       "    .dataframe tbody tr th:only-of-type {\n",
       "        vertical-align: middle;\n",
       "    }\n",
       "\n",
       "    .dataframe tbody tr th {\n",
       "        vertical-align: top;\n",
       "    }\n",
       "\n",
       "    .dataframe thead th {\n",
       "        text-align: right;\n",
       "    }\n",
       "</style>\n",
       "<table border=\"1\" class=\"dataframe\">\n",
       "  <thead>\n",
       "    <tr style=\"text-align: right;\">\n",
       "      <th></th>\n",
       "      <th>first</th>\n",
       "      <th>last</th>\n",
       "      <th>email</th>\n",
       "    </tr>\n",
       "  </thead>\n",
       "  <tbody>\n",
       "    <tr>\n",
       "      <th>0</th>\n",
       "      <td>Hussein</td>\n",
       "      <td>Sarea</td>\n",
       "      <td>zzzsdsd@dskd.com</td>\n",
       "    </tr>\n",
       "    <tr>\n",
       "      <th>1</th>\n",
       "      <td>Moataz</td>\n",
       "      <td>Ahmed</td>\n",
       "      <td>dsd@dsx.com</td>\n",
       "    </tr>\n",
       "  </tbody>\n",
       "</table>\n",
       "</div>"
      ],
      "text/plain": [
       "     first   last             email\n",
       "0  Hussein  Sarea  zzzsdsd@dskd.com\n",
       "1   Moataz  Ahmed       dsd@dsx.com"
      ]
     },
     "execution_count": 12,
     "metadata": {},
     "output_type": "execute_result"
    }
   ],
   "source": [
    "df.iloc[ [0 , 1] ] #Selecting multiple rows "
   ]
  },
  {
   "cell_type": "code",
   "execution_count": 13,
   "id": "729441e8",
   "metadata": {},
   "outputs": [
    {
     "data": {
      "text/plain": [
       "0    zzzsdsd@dskd.com\n",
       "1         dsd@dsx.com\n",
       "Name: email, dtype: object"
      ]
     },
     "execution_count": 13,
     "metadata": {},
     "output_type": "execute_result"
    }
   ],
   "source": [
    "df.iloc[ [0 , 1] , 2] #Selecting multiple rows and specific column"
   ]
  },
  {
   "cell_type": "code",
   "execution_count": 14,
   "id": "e06aadde",
   "metadata": {},
   "outputs": [
    {
     "data": {
      "text/html": [
       "<div>\n",
       "<style scoped>\n",
       "    .dataframe tbody tr th:only-of-type {\n",
       "        vertical-align: middle;\n",
       "    }\n",
       "\n",
       "    .dataframe tbody tr th {\n",
       "        vertical-align: top;\n",
       "    }\n",
       "\n",
       "    .dataframe thead th {\n",
       "        text-align: right;\n",
       "    }\n",
       "</style>\n",
       "<table border=\"1\" class=\"dataframe\">\n",
       "  <thead>\n",
       "    <tr style=\"text-align: right;\">\n",
       "      <th></th>\n",
       "      <th>first</th>\n",
       "      <th>email</th>\n",
       "    </tr>\n",
       "  </thead>\n",
       "  <tbody>\n",
       "    <tr>\n",
       "      <th>0</th>\n",
       "      <td>Hussein</td>\n",
       "      <td>zzzsdsd@dskd.com</td>\n",
       "    </tr>\n",
       "    <tr>\n",
       "      <th>2</th>\n",
       "      <td>Ekram</td>\n",
       "      <td>zzz@dskd.com</td>\n",
       "    </tr>\n",
       "  </tbody>\n",
       "</table>\n",
       "</div>"
      ],
      "text/plain": [
       "     first             email\n",
       "0  Hussein  zzzsdsd@dskd.com\n",
       "2    Ekram      zzz@dskd.com"
      ]
     },
     "execution_count": 14,
     "metadata": {},
     "output_type": "execute_result"
    }
   ],
   "source": [
    "df.loc[ [0 , 2] , ['first' , 'email']]"
   ]
  },
  {
   "cell_type": "code",
   "execution_count": 15,
   "id": "813f9946",
   "metadata": {},
   "outputs": [
    {
     "data": {
      "text/plain": [
       "0    zzzsdsd@dskd.com\n",
       "1         dsd@dsx.com\n",
       "2        zzz@dskd.com\n",
       "Name: email, dtype: object"
      ]
     },
     "execution_count": 15,
     "metadata": {},
     "output_type": "execute_result"
    }
   ],
   "source": [
    "df['email']"
   ]
  },
  {
   "cell_type": "code",
   "execution_count": 16,
   "id": "47e9a3c5",
   "metadata": {},
   "outputs": [
    {
     "data": {
      "text/html": [
       "<div>\n",
       "<style scoped>\n",
       "    .dataframe tbody tr th:only-of-type {\n",
       "        vertical-align: middle;\n",
       "    }\n",
       "\n",
       "    .dataframe tbody tr th {\n",
       "        vertical-align: top;\n",
       "    }\n",
       "\n",
       "    .dataframe thead th {\n",
       "        text-align: right;\n",
       "    }\n",
       "</style>\n",
       "<table border=\"1\" class=\"dataframe\">\n",
       "  <thead>\n",
       "    <tr style=\"text-align: right;\">\n",
       "      <th></th>\n",
       "      <th>first</th>\n",
       "      <th>last</th>\n",
       "    </tr>\n",
       "    <tr>\n",
       "      <th>email</th>\n",
       "      <th></th>\n",
       "      <th></th>\n",
       "    </tr>\n",
       "  </thead>\n",
       "  <tbody>\n",
       "    <tr>\n",
       "      <th>zzzsdsd@dskd.com</th>\n",
       "      <td>Hussein</td>\n",
       "      <td>Sarea</td>\n",
       "    </tr>\n",
       "    <tr>\n",
       "      <th>dsd@dsx.com</th>\n",
       "      <td>Moataz</td>\n",
       "      <td>Ahmed</td>\n",
       "    </tr>\n",
       "    <tr>\n",
       "      <th>zzz@dskd.com</th>\n",
       "      <td>Ekram</td>\n",
       "      <td>Sarea</td>\n",
       "    </tr>\n",
       "  </tbody>\n",
       "</table>\n",
       "</div>"
      ],
      "text/plain": [
       "                    first   last\n",
       "email                           \n",
       "zzzsdsd@dskd.com  Hussein  Sarea\n",
       "dsd@dsx.com        Moataz  Ahmed\n",
       "zzz@dskd.com        Ekram  Sarea"
      ]
     },
     "execution_count": 16,
     "metadata": {},
     "output_type": "execute_result"
    }
   ],
   "source": [
    "df.set_index('email')"
   ]
  },
  {
   "cell_type": "code",
   "execution_count": 19,
   "id": "463527bc",
   "metadata": {},
   "outputs": [],
   "source": [
    "df.set_index('email' , inplace=True)"
   ]
  },
  {
   "cell_type": "code",
   "execution_count": 21,
   "id": "93d60795",
   "metadata": {},
   "outputs": [
    {
     "data": {
      "text/plain": [
       "Index(['zzzsdsd@dskd.com', 'dsd@dsx.com', 'zzz@dskd.com'], dtype='object', name='email')"
      ]
     },
     "execution_count": 21,
     "metadata": {},
     "output_type": "execute_result"
    }
   ],
   "source": [
    "df.index"
   ]
  },
  {
   "cell_type": "code",
   "execution_count": 25,
   "id": "f9da41f1",
   "metadata": {},
   "outputs": [
    {
     "data": {
      "text/plain": [
       "'Hussein'"
      ]
     },
     "execution_count": 25,
     "metadata": {},
     "output_type": "execute_result"
    }
   ],
   "source": [
    "df.loc['zzzsdsd@dskd.com' , 'first']"
   ]
  },
  {
   "cell_type": "code",
   "execution_count": 30,
   "id": "ae1d2e32",
   "metadata": {},
   "outputs": [
    {
     "data": {
      "text/plain": [
       "first    Hussein\n",
       "last       Sarea\n",
       "Name: zzzsdsd@dskd.com, dtype: object"
      ]
     },
     "execution_count": 30,
     "metadata": {},
     "output_type": "execute_result"
    }
   ],
   "source": [
    "df.iloc[0]"
   ]
  },
  {
   "cell_type": "code",
   "execution_count": 33,
   "id": "8acd31e6",
   "metadata": {},
   "outputs": [],
   "source": [
    "df.reset_index(inplace=True)"
   ]
  },
  {
   "cell_type": "code",
   "execution_count": 34,
   "id": "cf24ea63",
   "metadata": {},
   "outputs": [
    {
     "data": {
      "text/html": [
       "<div>\n",
       "<style scoped>\n",
       "    .dataframe tbody tr th:only-of-type {\n",
       "        vertical-align: middle;\n",
       "    }\n",
       "\n",
       "    .dataframe tbody tr th {\n",
       "        vertical-align: top;\n",
       "    }\n",
       "\n",
       "    .dataframe thead th {\n",
       "        text-align: right;\n",
       "    }\n",
       "</style>\n",
       "<table border=\"1\" class=\"dataframe\">\n",
       "  <thead>\n",
       "    <tr style=\"text-align: right;\">\n",
       "      <th></th>\n",
       "      <th>email</th>\n",
       "      <th>first</th>\n",
       "      <th>last</th>\n",
       "    </tr>\n",
       "  </thead>\n",
       "  <tbody>\n",
       "    <tr>\n",
       "      <th>0</th>\n",
       "      <td>zzzsdsd@dskd.com</td>\n",
       "      <td>Hussein</td>\n",
       "      <td>Sarea</td>\n",
       "    </tr>\n",
       "    <tr>\n",
       "      <th>1</th>\n",
       "      <td>dsd@dsx.com</td>\n",
       "      <td>Moataz</td>\n",
       "      <td>Ahmed</td>\n",
       "    </tr>\n",
       "    <tr>\n",
       "      <th>2</th>\n",
       "      <td>zzz@dskd.com</td>\n",
       "      <td>Ekram</td>\n",
       "      <td>Sarea</td>\n",
       "    </tr>\n",
       "  </tbody>\n",
       "</table>\n",
       "</div>"
      ],
      "text/plain": [
       "              email    first   last\n",
       "0  zzzsdsd@dskd.com  Hussein  Sarea\n",
       "1       dsd@dsx.com   Moataz  Ahmed\n",
       "2      zzz@dskd.com    Ekram  Sarea"
      ]
     },
     "execution_count": 34,
     "metadata": {},
     "output_type": "execute_result"
    }
   ],
   "source": [
    "df"
   ]
  },
  {
   "cell_type": "code",
   "execution_count": 39,
   "id": "93f5f634",
   "metadata": {},
   "outputs": [
    {
     "data": {
      "text/plain": [
       "pandas.core.series.Series"
      ]
     },
     "execution_count": 39,
     "metadata": {},
     "output_type": "execute_result"
    }
   ],
   "source": [
    "type(df['last'] == 'Sarea') #Series"
   ]
  },
  {
   "cell_type": "code",
   "execution_count": 40,
   "id": "eedb7714",
   "metadata": {},
   "outputs": [],
   "source": [
    "filt = (df['last'] == 'Sarea')"
   ]
  },
  {
   "cell_type": "code",
   "execution_count": 52,
   "id": "3de6bee5",
   "metadata": {},
   "outputs": [
    {
     "data": {
      "text/html": [
       "<div>\n",
       "<style scoped>\n",
       "    .dataframe tbody tr th:only-of-type {\n",
       "        vertical-align: middle;\n",
       "    }\n",
       "\n",
       "    .dataframe tbody tr th {\n",
       "        vertical-align: top;\n",
       "    }\n",
       "\n",
       "    .dataframe thead th {\n",
       "        text-align: right;\n",
       "    }\n",
       "</style>\n",
       "<table border=\"1\" class=\"dataframe\">\n",
       "  <thead>\n",
       "    <tr style=\"text-align: right;\">\n",
       "      <th></th>\n",
       "      <th>email</th>\n",
       "      <th>first</th>\n",
       "      <th>last</th>\n",
       "    </tr>\n",
       "  </thead>\n",
       "  <tbody>\n",
       "    <tr>\n",
       "      <th>0</th>\n",
       "      <td>zzzsdsd@dskd.com</td>\n",
       "      <td>Hussein</td>\n",
       "      <td>Sarea</td>\n",
       "    </tr>\n",
       "    <tr>\n",
       "      <th>2</th>\n",
       "      <td>zzz@dskd.com</td>\n",
       "      <td>Ekram</td>\n",
       "      <td>Sarea</td>\n",
       "    </tr>\n",
       "  </tbody>\n",
       "</table>\n",
       "</div>"
      ],
      "text/plain": [
       "              email    first   last\n",
       "0  zzzsdsd@dskd.com  Hussein  Sarea\n",
       "2      zzz@dskd.com    Ekram  Sarea"
      ]
     },
     "execution_count": 52,
     "metadata": {},
     "output_type": "execute_result"
    }
   ],
   "source": [
    "df[filt]"
   ]
  },
  {
   "cell_type": "code",
   "execution_count": 61,
   "id": "ba9670fc",
   "metadata": {},
   "outputs": [
    {
     "data": {
      "text/html": [
       "<div>\n",
       "<style scoped>\n",
       "    .dataframe tbody tr th:only-of-type {\n",
       "        vertical-align: middle;\n",
       "    }\n",
       "\n",
       "    .dataframe tbody tr th {\n",
       "        vertical-align: top;\n",
       "    }\n",
       "\n",
       "    .dataframe thead th {\n",
       "        text-align: right;\n",
       "    }\n",
       "</style>\n",
       "<table border=\"1\" class=\"dataframe\">\n",
       "  <thead>\n",
       "    <tr style=\"text-align: right;\">\n",
       "      <th></th>\n",
       "      <th>first</th>\n",
       "      <th>email</th>\n",
       "    </tr>\n",
       "  </thead>\n",
       "  <tbody>\n",
       "    <tr>\n",
       "      <th>0</th>\n",
       "      <td>Hussein</td>\n",
       "      <td>zzzsdsd@dskd.com</td>\n",
       "    </tr>\n",
       "    <tr>\n",
       "      <th>2</th>\n",
       "      <td>Ekram</td>\n",
       "      <td>zzz@dskd.com</td>\n",
       "    </tr>\n",
       "  </tbody>\n",
       "</table>\n",
       "</div>"
      ],
      "text/plain": [
       "     first             email\n",
       "0  Hussein  zzzsdsd@dskd.com\n",
       "2    Ekram      zzz@dskd.com"
      ]
     },
     "execution_count": 61,
     "metadata": {},
     "output_type": "execute_result"
    }
   ],
   "source": [
    "type( df.loc[ filt , 'first'] ) #Series\n",
    "type( df.loc[ filt , ['first' , 'email'] ] ) #DataFrame\n",
    "\n",
    "df.loc[filt , ['first' , 'email']]"
   ]
  },
  {
   "cell_type": "code",
   "execution_count": 63,
   "id": "67200965",
   "metadata": {},
   "outputs": [
    {
     "data": {
      "text/plain": [
       "0    zzzsdsd@dskd.com\n",
       "Name: email, dtype: object"
      ]
     },
     "execution_count": 63,
     "metadata": {},
     "output_type": "execute_result"
    }
   ],
   "source": [
    "filt = ( df['first'] == 'Hussein' ) & ( df['last'] == 'Sarea' )\n",
    "df.loc[filt , 'email']"
   ]
  },
  {
   "cell_type": "code",
   "execution_count": 64,
   "id": "c3dc4d63",
   "metadata": {},
   "outputs": [
    {
     "data": {
      "text/plain": [
       "0    zzzsdsd@dskd.com\n",
       "1         dsd@dsx.com\n",
       "Name: email, dtype: object"
      ]
     },
     "execution_count": 64,
     "metadata": {},
     "output_type": "execute_result"
    }
   ],
   "source": [
    "filt = ( df['first'] == 'Hussein' ) | ( df['last'] == 'Ahmed' )\n",
    "df.loc[filt , 'email']"
   ]
  },
  {
   "cell_type": "code",
   "execution_count": 66,
   "id": "7ddb939b",
   "metadata": {},
   "outputs": [
    {
     "data": {
      "text/plain": [
       "1     dsd@dsx.com\n",
       "2    zzz@dskd.com\n",
       "Name: email, dtype: object"
      ]
     },
     "execution_count": 66,
     "metadata": {},
     "output_type": "execute_result"
    }
   ],
   "source": [
    "filt = ( df['first'] == 'Hussein' ) & ( df['last'] == 'Sarea' )\n",
    "df.loc[~filt , 'email']"
   ]
  }
 ],
 "metadata": {
  "kernelspec": {
   "display_name": "Python 3",
   "language": "python",
   "name": "python3"
  },
  "language_info": {
   "codemirror_mode": {
    "name": "ipython",
    "version": 3
   },
   "file_extension": ".py",
   "mimetype": "text/x-python",
   "name": "python",
   "nbconvert_exporter": "python",
   "pygments_lexer": "ipython3",
   "version": "3.9.5"
  }
 },
 "nbformat": 4,
 "nbformat_minor": 5
}
